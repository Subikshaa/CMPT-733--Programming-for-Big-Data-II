{
 "cells": [
  {
   "cell_type": "markdown",
   "metadata": {},
   "source": [
    "# Assignment 1: Web Scraping"
   ]
  },
  {
   "cell_type": "markdown",
   "metadata": {},
   "source": [
    "## Objective"
   ]
  },
  {
   "cell_type": "markdown",
   "metadata": {},
   "source": [
    "Data scientists often need to crawl data from websites and turn the crawled data (HTML pages) to structured data (tables). Thus, web scraping is an essential skill that every data scientist should master. In this assignment, you will learn the followings:\n",
    "\n",
    "\n",
    "* How to use [requests](http://www.python-requests.org/en/master/) to download HTML pages from a website?\n",
    "* How to select content on a webpage with [lxml](http://lxml.de/)? \n",
    "\n",
    "You can either use Spark DataFrame or [pandas.DataFrame](http://pandas.pydata.org/pandas-docs/stable/generated/pandas.DataFrame.html) to do the assignment. In comparison, pandas.DataFrame has richer APIs, but is not good at distributed computing."
   ]
  },
  {
   "cell_type": "markdown",
   "metadata": {},
   "source": [
    "## Preliminary"
   ]
  },
  {
   "cell_type": "markdown",
   "metadata": {},
   "source": [
    "If this is your first time to write a web scraper, you need to learn some basic knowledge of HTML, DOM, and XPath. I found that this is a good resource: [https://data-lessons.github.io](https://data-lessons.github.io/library-webscraping-DEPRECATED/). Please take a look at\n",
    "\n",
    "* [Selecting content on a web page with XPath\n",
    "](https://data-lessons.github.io/library-webscraping-DEPRECATED/xpath/)\n",
    "* [Web scraping using Python: requests and lxml](https://data-lessons.github.io/library-webscraping-DEPRECATED/04-lxml/). \n",
    "\n",
    "Please let me know if you find a better resource. I'll share it with the other students."
   ]
  },
  {
   "cell_type": "markdown",
   "metadata": {},
   "source": [
    "## Overview"
   ]
  },
  {
   "cell_type": "markdown",
   "metadata": {},
   "source": [
    "Imagine you are a data scientist working at SFU. One day, you want to analyze CS faculty data and answer two interesting questions:\n",
    "\n",
    "1. Who are the CS faculty members?\n",
    "2. What are their research interests?\n",
    "\n",
    "To do so, the first thing is to figure out what data to collect."
   ]
  },
  {
   "cell_type": "markdown",
   "metadata": {},
   "source": [
    "## Task 1: SFU CS Faculty Members"
   ]
  },
  {
   "cell_type": "markdown",
   "metadata": {},
   "source": [
    "You find that there is a web page in the CS school website, which lists all the faculty members as well as their basic information. \n",
    "\n",
    "In Task 1, your job is to write a web scraper to extract the faculty information from this page: [https://www.sfu.ca/computing/people/faculty.html](https://www.sfu.ca/computing/people/faculty.html).\n",
    "\n",
    "\n"
   ]
  },
  {
   "cell_type": "markdown",
   "metadata": {},
   "source": [
    "### (a) Crawling Web Page"
   ]
  },
  {
   "cell_type": "markdown",
   "metadata": {},
   "source": [
    "A web page is essentially a file stored in a remote machine (called web server). You can use [requests](http://www.python-requests.org/en/master/) to open such a file and read data from it. Please complete the following code to download the HTML page and save it as a text file (like [this](./faculty.txt)). "
   ]
  },
  {
   "cell_type": "code",
   "execution_count": 2,
   "metadata": {},
   "outputs": [],
   "source": [
    "import requests\n",
    "\n",
    "# 1. Download the webpage\n",
    "page = requests.get(\"https://www.sfu.ca/computing/people/faculty.html\")\n",
    "\n",
    "# 2. Save it as a text file (named faculty.txt)\n",
    "file = open(\"faculty.txt\",\"wb\")\n",
    "file.write(page.text.encode('utf8'))\n",
    "file.close()"
   ]
  },
  {
   "cell_type": "markdown",
   "metadata": {},
   "source": [
    "### (b) Extracting Structured Data"
   ]
  },
  {
   "cell_type": "markdown",
   "metadata": {},
   "source": [
    "An HTML page follows the Document Object Model (DOM). It models an HTML page as a tree structure wherein each node is an object representing a part of the page. The nodes can be searched and extracted programmatically using XPath. Please complete the following code to transform the above HTML page to a CSV file (like [this](./faculty_table.csv)). "
   ]
  },
  {
   "cell_type": "code",
   "execution_count": 3,
   "metadata": {},
   "outputs": [],
   "source": [
    "import lxml.html \n",
    "import pandas as pd\n",
    "\n",
    "# 1. Open faculty.txt\n",
    "file = open(\"faculty.txt\",\"r\")\n",
    "treestruc = lxml.html.fromstring(file.read())\n",
    "# 2. Parse the HTML page as a tree structure\n",
    "allprofessors = treestruc.xpath('//*[contains(@class,\"textimage section\")]')\n",
    "name = []\n",
    "rank = []\n",
    "area = []\n",
    "profile = [] \n",
    "homepage = []\n",
    "# 3. Extract related content from the tree using XPath\n",
    "for prof in allprofessors:\n",
    "    #name and rank\n",
    "    namerank_xpath = prof.xpath('.//div[@class=\"text\"]/h4/text()')\n",
    "    namerank_sep = namerank_xpath[0].split(\", \")\n",
    "    namerank_sep[1] = namerank_sep[1].strip(\"\\xa0\")\n",
    "    name.append(namerank_sep[0])\n",
    "    rank.append(namerank_sep[1])\n",
    "    #area\n",
    "    if namerank_sep[0] == \"Fred Popowich\":\n",
    "        area_name = namerank_xpath[1]\n",
    "        area.append(area_name)\n",
    "    else:     \n",
    "        area_xpath = prof.xpath('.//p[1]/text()')\n",
    "        area_name = area_xpath[0].strip(\": \").strip(\"\\xa0\")\n",
    "        area.append(area_name)\n",
    "    #profile and homepage\n",
    "    profile_xpath = prof.xpath('.//p[2]/a[1]/@href')\n",
    "    if len(prof.xpath('.//p[2]/a[1]/@href')) == 0:\n",
    "        if len(prof.xpath('.//p[3]/a[1]/@href')) != 0:\n",
    "            profile_xpath = prof.xpath('.//p[3]/a[1]/@href')\n",
    "        elif len(prof.xpath('.//p[1]/a[1]/@href')) != 0:\n",
    "            profile_xpath = prof.xpath('.//p[1]/a[1]/@href')\n",
    "            \n",
    "    if profile_xpath[0].startswith('http://'):\n",
    "        profile_link = profile_xpath[0]\n",
    "    else:\n",
    "        profile_link = 'http://www.sfu.ca' + profile_xpath[0]\n",
    "    profile.append(profile_link)\n",
    "    \n",
    "    #homepage\n",
    "    homepage_xpath = prof.xpath('.//p[2]/a[2]/@href')\n",
    "    if len(prof.xpath('.//p[2]/a[2]/@href')) == 0:\n",
    "        if len(prof.xpath('.//p[3]/a[2]/@href')) != 0:\n",
    "            homepage_xpath = prof.xpath('.//p[3]/a[2]/@href')\n",
    "        elif len(prof.xpath('.//p[1]/a[2]/@href')) != 0:\n",
    "            homepage_xpath = prof.xpath('.//p[1]/a[2]/@href')\n",
    "        else:\n",
    "            homepage_xpath = ' '\n",
    "    homepage.append(homepage_xpath[0])\n",
    "\n",
    "dict = {\"name\":name,\"rank\":rank,\"area\":area,\"profile\":profile,\"homepage\":homepage}\n",
    "prof_df = pd.DataFrame(dict)\n",
    "# 4. Save the extracted content as an csv file (named faculty_table.csv)\n",
    "prof_df.to_csv('faculty_table.csv',index=False)"
   ]
  },
  {
   "cell_type": "markdown",
   "metadata": {},
   "source": [
    "## Task 2: Research Interests"
   ]
  },
  {
   "cell_type": "markdown",
   "metadata": {},
   "source": [
    "Suppose you want to know the research interests of each faculty. However, the above crawled web page does not contain such information. "
   ]
  },
  {
   "cell_type": "markdown",
   "metadata": {},
   "source": [
    "### (a) Crawling Web Page"
   ]
  },
  {
   "cell_type": "markdown",
   "metadata": {},
   "source": [
    "You notice that such information can be found on the profile page of each faculty. For example, you can find the research interests of Dr. Jiannan Wang from [http://www.sfu.ca/computing/people/faculty/jiannanwang.html](http://www.sfu.ca/computing/people/faculty/jiannanwang.html). \n",
    "\n",
    "\n",
    "Please complete the following code to download the profile pages and save them as text files. There are 60 faculties, so you need to download 60 web pages in total. "
   ]
  },
  {
   "cell_type": "code",
   "execution_count": 4,
   "metadata": {},
   "outputs": [],
   "source": [
    "import requests\n",
    "\n",
    "file = open('faculty_table.csv',\"r\")\n",
    "profile = prof_df['profile'].tolist()\n",
    "name = prof_df['name'].tolist()\n",
    "# 1. Download the profile pages of 60 faculties\n",
    "for i in range(len(profile)):\n",
    "    page = requests.get(profile[i])\n",
    "# 2. Save each page as a text file\n",
    "    file = open(name[i].replace(' ','')+\".txt\",\"wb\")\n",
    "    file.write(page.text.encode('utf8'))\n",
    "    file.close()"
   ]
  },
  {
   "cell_type": "markdown",
   "metadata": {},
   "source": [
    "### (b) Extracting Structured Data"
   ]
  },
  {
   "cell_type": "markdown",
   "metadata": {},
   "source": [
    "Please complete the following code to extract the research interests of each faculty, and generate a file like [this](./faculty_more_table.csv). "
   ]
  },
  {
   "cell_type": "code",
   "execution_count": 41,
   "metadata": {},
   "outputs": [],
   "source": [
    "import lxml.html \n",
    "import pandas as pd\n",
    "\n",
    "li = [\"Research Interests\",\"Research interests\"]\n",
    "research_interest = []\n",
    "path = ['//div[@class=\"parsys_column cq-colctrl-lt0-c1\"]/div[2]/div','//div[@class=\"parsys_column cq-colctrl-lt0-c0\"]/div[4]/div[1]','//div[@class=\"parsys_column cq-colctrl-lt0-c1\"]/div[3]/div','//div[@class=\"parsys_column cq-colctrl-lt0-c1\"]/div[4]/div']\n",
    "for i in range(len(profile)):\n",
    "# 1. Open each text file and parse it as a tree structure \n",
    "    file = open(name[i].replace(' ','')+\".txt\",\"r\",encoding=\"utf8\")\n",
    "    treestruc = lxml.html.fromstring(file.read())\n",
    "\n",
    "    for j in range(len(path)):\n",
    "        if len(treestruc.xpath(path[j]+\"/h2/text()\")) != 0 and treestruc.xpath(path[j]+\"/h2/text()\")[0] in li:\n",
    "            temp = treestruc.xpath(path[j]+\"/ul//li\")\n",
    "# 2. Extract the research interests from each tree using XPath\n",
    "            ri_path = [ x.text_content().replace('\\xa0','').replace('\\n','') for x in temp]\n",
    "            while \"\\n\" in ri_path: ri_path.remove(\"\\n\")\n",
    "            break\n",
    "        else:\n",
    "            ri_path =[]\n",
    "    research_interest.append(ri_path)\n",
    "    \n",
    "re_interest = pd.Series(research_interest)\n",
    "# 3. Add the extracted content to faculty_table.csv\n",
    "prof_df['research_interests'] = re_interest.values\n",
    "# 4. Generate a new CSV file, named faculty_more_table.csv\n",
    "prof_df.to_csv('faculty_more_table.csv',index=False)           "
   ]
  },
  {
   "cell_type": "markdown",
   "metadata": {},
   "source": [
    "## Submission"
   ]
  },
  {
   "cell_type": "markdown",
   "metadata": {},
   "source": [
    "Complete the code in this [notebook](A1.ipynb), and submit it to the CourSys activity `Assignment 1`."
   ]
  }
 ],
 "metadata": {
  "kernelspec": {
   "display_name": "Python 3",
   "language": "python",
   "name": "python3"
  },
  "language_info": {
   "codemirror_mode": {
    "name": "ipython",
    "version": 3
   },
   "file_extension": ".py",
   "mimetype": "text/x-python",
   "name": "python",
   "nbconvert_exporter": "python",
   "pygments_lexer": "ipython3",
   "version": "3.7.1"
  }
 },
 "nbformat": 4,
 "nbformat_minor": 1
}
